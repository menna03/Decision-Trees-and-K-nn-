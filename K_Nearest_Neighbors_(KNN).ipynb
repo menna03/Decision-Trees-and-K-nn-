{
  "cells": [
    {
      "cell_type": "markdown",
      "metadata": {
        "id": "view-in-github",
        "colab_type": "text"
      },
      "source": [
        "<a href=\"https://colab.research.google.com/github/menna03/Decision-Trees-and-K-nn-/blob/main/K_Nearest_Neighbors_(KNN).ipynb\" target=\"_parent\"><img src=\"https://colab.research.google.com/assets/colab-badge.svg\" alt=\"Open In Colab\"/></a>"
      ]
    },
    {
      "cell_type": "markdown",
      "metadata": {
        "id": "74hxlLTGtZZe"
      },
      "source": [
        "20217011_20217005_20216129_20216091_20218003"
      ]
    },
    {
      "cell_type": "markdown",
      "metadata": {
        "id": "2xhDq0LrtyTF"
      },
      "source": [
        "#  Problem 2 :K-Nearest Neighbors (KNN)"
      ]
    },
    {
      "cell_type": "code",
      "execution_count": null,
      "metadata": {
        "id": "DMwPYI9gEZ3q"
      },
      "outputs": [],
      "source": [
        "import pandas as pd\n",
        "from sklearn.model_selection import train_test_split\n",
        "import numpy as np\n",
        "from collections import Counter"
      ]
    },
    {
      "cell_type": "code",
      "execution_count": null,
      "metadata": {
        "id": "Jt2mMfeLGbat"
      },
      "outputs": [],
      "source": [
        "#loading the data\n",
        "diabetes_data = pd.read_csv('diabetes.csv')"
      ]
    },
    {
      "cell_type": "code",
      "execution_count": null,
      "metadata": {
        "id": "RIem-99AHB1z"
      },
      "outputs": [],
      "source": [
        "#splitting the data into trainging and testing\n",
        "train_data, test_data = train_test_split(diabetes_data, test_size=0.3, random_state=42)"
      ]
    },
    {
      "cell_type": "code",
      "execution_count": null,
      "metadata": {
        "id": "WgVTeMieMLt1"
      },
      "outputs": [],
      "source": [
        "#normalizing the features using the min-max scaling approach\n",
        "\n",
        "#determining the columns we want to do operations on (numerics)\n",
        "cols = [\"Pregnancies\",\"Glucose\",\"BloodPressure\",\"SkinThickness\",\"Insulin\",\"BMI\",\"DiabetesPedigreeFunction\",\"Age\",\"Outcome\"]\n",
        "#get the max values existed in the training set\n",
        "max_values = train_data[cols].max()\n",
        "#get the min values existed in the training set\n",
        "min_values = train_data[cols].min()\n",
        "#get the max values existed in the testing set\n",
        "max_values_test = test_data[cols].max()\n",
        "#get the min values existed in the testing set\n",
        "min_values_test = test_data[cols].min()\n",
        "\n",
        "for col in cols:\n",
        "  train_data[col] = ((train_data[col] - min_values[col]) / (max_values[col] - min_values[col]))\n",
        "  test_data[col] = ((test_data[col] - min_values_test[col]) / (max_values_test[col] - min_values_test[col]))"
      ]
    },
    {
      "cell_type": "code",
      "execution_count": null,
      "metadata": {
        "id": "EQvthMz9ktVz"
      },
      "outputs": [],
      "source": [
        "#this function calculates the euclidean distance between two points (objects)\n",
        "def euclidean_distance(x1, x2):\n",
        "    return np.sqrt(np.sum((np.array(x1) - np.array(x2)) ** 2))"
      ]
    },
    {
      "cell_type": "code",
      "execution_count": null,
      "metadata": {
        "id": "tXVAYTXMk0QB"
      },
      "outputs": [],
      "source": [
        "# this function is to get the nearest neighbours of given testing instance within the training data using euclidean distance\n",
        "def get_neighbors(training_data, test_instance, k):\n",
        "    distances = []\n",
        "    for index, row in training_data.iterrows():\n",
        "    #for train_instance in training_data:\n",
        "        dist = euclidean_distance(test_instance[:-1], row[:-1])\n",
        "        distances.append((row, dist))\n",
        "    distances.sort(key=lambda x: x[1])\n",
        "    return distances[:k]"
      ]
    },
    {
      "cell_type": "code",
      "execution_count": null,
      "metadata": {
        "id": "3gc3tBqEk15W"
      },
      "outputs": [],
      "source": [
        "#this function is too give a higher weight to the nearest neighbor (that has the biggest influnce on the classification decision)\n",
        "def distance_weighted_voting(neighbors):\n",
        "    # Initialize an empty dictionary to store votes for different classes\n",
        "    class_votes = {}\n",
        "\n",
        "    # Iterate through each neighbor and its distance\n",
        "    for neighbor, distance in neighbors:\n",
        "        # Extract the class label (assumed to be the last element in the neighbor tuple)\n",
        "        label = neighbor[-1]\n",
        "\n",
        "        # Compute the weight for the neighbor based on its distance\n",
        "        # If the distance is zero, assign a high weight (1e4) to avoid division by zero\n",
        "        weight = 1 / distance if distance != 0 else 1e4\n",
        "\n",
        "        # Update the vote count for the corresponding class label\n",
        "        # If the label doesn't exist yet, initialize it to zero and then add the weight\n",
        "        class_votes[label] = class_votes.get(label, 0) + weight\n",
        "\n",
        "    # Return the class label that has the maximum accumulated weight\n",
        "    return max(class_votes, key=class_votes.get)\n"
      ]
    },
    {
      "cell_type": "code",
      "execution_count": null,
      "metadata": {
        "id": "nRTp25U0k263"
      },
      "outputs": [],
      "source": [
        "#creating a function to calculate the k nearest neighbors\n",
        "def KNN(k, training_data, test_data):\n",
        "    correct = 0\n",
        "    total = len(test_data)\n",
        "    for index, row in test_data.iterrows():\n",
        "    #for test_instance in test_data:\n",
        "        # Get the neighbors for the current test instance using the training data (calling the function we created )\n",
        "        neighbors = get_neighbors(training_data, row, k)\n",
        "\n",
        "        # Sort the neighbors by their distances\n",
        "        sorted_neighbors = sorted(neighbors, key=lambda x: x[1])\n",
        "\n",
        "        # Extract the top k classes from the sorted neighbors\n",
        "        top_classes = [neighbor[0][-1] for neighbor in sorted_neighbors[:k]]\n",
        "\n",
        "        # Count occurrences of the top classes\n",
        "        counter = Counter(top_classes)\n",
        "\n",
        "        # Find the most common class (or classes) among the top k neighbors\n",
        "        most_common = counter.most_common(2)\n",
        "\n",
        "        # Check if there is a tie in the most common classes\n",
        "        if len(most_common) > 1 and most_common[0][1] == most_common[1][1]:\n",
        "            # If there is a tie, use distance-weighted voting to predict the class\n",
        "            predicted_class = distance_weighted_voting(sorted_neighbors)\n",
        "        else:\n",
        "            # Predict the class based on the most common class among the top k neighbors\n",
        "            predicted_class = Counter(top_classes).most_common(1)[0][0]\n",
        "\n",
        "        # Check if the predicted class matches the actual class for the test instance\n",
        "        if predicted_class == row[-1]:\n",
        "            # Increment the correct counter if the prediction is correct\n",
        "            correct += 1\n",
        "\n",
        "#calculating the accuracy of the correct results\n",
        "    accuracy = correct / total\n",
        "    return correct, total, accuracy"
      ]
    },
    {
      "cell_type": "code",
      "execution_count": null,
      "metadata": {
        "colab": {
          "background_save": true,
          "base_uri": "https://localhost:8080/"
        },
        "id": "kvl1cze8fTWW",
        "outputId": "238a74b7-39af-4384-b693-e9256050e85a"
      },
      "outputs": [
        {
          "name": "stdout",
          "output_type": "stream",
          "text": [
            "K value: 2\n",
            "Number of correctly classified instances: 157\n",
            "Total number of instances in the test set: 231\n",
            "Accuracy: 67.97%\n",
            "\n",
            "K value: 3\n",
            "Number of correctly classified instances: 159\n",
            "Total number of instances in the test set: 231\n",
            "Accuracy: 68.83%\n",
            "\n",
            "K value: 4\n",
            "Number of correctly classified instances: 163\n",
            "Total number of instances in the test set: 231\n",
            "Accuracy: 70.56%\n",
            "\n",
            "K value: 5\n",
            "Number of correctly classified instances: 166\n",
            "Total number of instances in the test set: 231\n",
            "Accuracy: 71.86%\n",
            "\n",
            "K value: 8\n",
            "Number of correctly classified instances: 172\n",
            "Total number of instances in the test set: 231\n",
            "Accuracy: 74.46%\n",
            "\n",
            "K value: 7\n",
            "Number of correctly classified instances: 163\n",
            "Total number of instances in the test set: 231\n",
            "Accuracy: 70.56%\n",
            "\n",
            "Average accuracy across all iterations: 70.71%\n"
          ]
        }
      ],
      "source": [
        "#initializing different values of the k, set the avg_accuracy, num_iteration to 0\n",
        "k_values = [2, 3, 4, 5, 8, 7]\n",
        "avg_accuracy = 0\n",
        "num_iterations = 0\n",
        "#calculate the KNN according to the value of the k\n",
        "for k in k_values:\n",
        "    correct, total, accuracy = KNN(k, train_data, test_data)\n",
        "    #summing up the avg_accuracy\n",
        "    avg_accuracy += accuracy\n",
        "    #increasing the num_iterations by 1\n",
        "    num_iterations += 1\n",
        "    #displaying the results\n",
        "    print(f\"K value: {k}\")\n",
        "    print(f\"Number of correctly classified instances: {correct}\")\n",
        "    print(f\"Total number of instances in the test set: {total}\")\n",
        "    print(f\"Accuracy: {accuracy * 100:.2f}%\")\n",
        "    print(\"\")\n",
        "#displaying the final result of the avg_accuracy\n",
        "avg_accuracy /= num_iterations\n",
        "print(f\"Average accuracy across all iterations: {avg_accuracy * 100:.2f}%\")"
      ]
    },
    {
      "cell_type": "markdown",
      "source": [
        "K = 8, is the optimal value for this database"
      ],
      "metadata": {
        "id": "aZoWdCfI_AqD"
      }
    },
    {
      "cell_type": "markdown",
      "metadata": {
        "id": "KJ6SOkSTtAIt"
      },
      "source": [
        "# 20217011\n",
        "#20217005\n",
        "#20216129\n",
        "#20216091\n",
        "#20218003"
      ]
    }
  ],
  "metadata": {
    "colab": {
      "provenance": [],
      "include_colab_link": true
    },
    "kernelspec": {
      "display_name": "Python 3",
      "name": "python3"
    },
    "language_info": {
      "name": "python"
    }
  },
  "nbformat": 4,
  "nbformat_minor": 0
}